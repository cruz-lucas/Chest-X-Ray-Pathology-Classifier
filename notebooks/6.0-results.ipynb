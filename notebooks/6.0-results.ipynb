{
 "cells": [
  {
   "cell_type": "code",
   "execution_count": 86,
   "metadata": {},
   "outputs": [],
   "source": [
    "import torch\n",
    "from torch.utils.data import DataLoader\n",
    "\n",
    "from train_vit import CheXpertDataset\n",
    "from transformers import (\n",
    "    ViTForImageClassification,\n",
    "    AutoConfig\n",
    ")\n",
    "\n",
    "import pandas as pd\n",
    "import numpy as np\n",
    "\n",
    "pathologies = ['Atelectasis',\n",
    "                'Cardiomegaly',\n",
    "                'Consolidation',\n",
    "                'Edema',\n",
    "                'Pleural Effusion']\n",
    "\n",
    "def get_predictions(ckpts, approach, train=False):\n",
    "    dataset = CheXpertDataset(\n",
    "                data_path='../data/raw/',\n",
    "                uncertainty_policy=approach,\n",
    "                train=False,\n",
    "                resize_shape=(224, 224))\n",
    "    dataloader = DataLoader(dataset, batch_size=dataset.__len__(), shuffle=False)\n",
    "\n",
    "\n",
    "    models = []\n",
    "    for checkpoint in ckpts:\n",
    "        config = AutoConfig.from_pretrained(f\"../models/base-vit/{approach}/checkpoint-{checkpoint}\")\n",
    "        model = ViTForImageClassification(config=config).eval()\n",
    "        models.append(model)\n",
    "\n",
    "    general_output = []\n",
    "    for i_model, model in enumerate(models):\n",
    "        multiindex = pd.MultiIndex.from_product([[f'model_{i_model}'], pathologies], names=['model', 'pathology'])\n",
    "        for i_batch, sample_batched in enumerate(dataloader):\n",
    "            with torch.no_grad():\n",
    "                model_output = pd.DataFrame(model(sample_batched['pixel_values']).logits.numpy(), columns=multiindex)\n",
    "                labels = pd.DataFrame(sample_batched['labels'], columns=pd.MultiIndex.from_product([['labels'], pathologies]))\n",
    "\n",
    "        if len(general_output) == 0:\n",
    "            general_output = pd.merge(labels, model_output, left_index=True, right_index=True).copy()\n",
    "        else:\n",
    "            general_output = pd.merge(general_output, model_output, left_index=True, right_index=True)\n",
    "    return general_output"
   ]
  },
  {
   "cell_type": "code",
   "execution_count": 88,
   "metadata": {},
   "outputs": [
    {
     "name": "stderr",
     "output_type": "stream",
     "text": [
      "2023-08-21 15:05:05,203 - train_vit - INFO - Local database found.\n"
     ]
    }
   ],
   "source": [
    "ckpts = ['622', '1244', '1867', '2489', '3111', '3734', '4356', '4979', '5601', '6220']\n",
    "approach = 'U-Ignore'\n",
    "\n",
    "ignore_results = get_predictions(ckpts, approach)\n",
    "ignore_results.to_parquet(f'results/{approach}.pqt')"
   ]
  },
  {
   "cell_type": "code",
   "execution_count": 90,
   "metadata": {},
   "outputs": [
    {
     "name": "stderr",
     "output_type": "stream",
     "text": [
      "2023-08-21 15:10:50,367 - train_vit - INFO - Local database found.\n"
     ]
    }
   ],
   "source": [
    "ckpts = ['872', '1745', '2618', '3490', '4363', '5236', '6108', '6981', '7854', '8720']\n",
    "approach = 'U-MultiClass'\n",
    "\n",
    "multiclass_results = get_predictions(ckpts, approach)\n",
    "multiclass_results.to_parquet(f'results/{approach}.pqt')"
   ]
  },
  {
   "cell_type": "code",
   "execution_count": 91,
   "metadata": {},
   "outputs": [
    {
     "name": "stderr",
     "output_type": "stream",
     "text": [
      "2023-08-21 15:15:11,758 - train_vit - INFO - Local database found.\n"
     ]
    }
   ],
   "source": [
    "ckpts = ['872', '1745', '2618', '3490', '4363', '5236', '6108', '6981', '7854', '8720']\n",
    "approach = 'U-Ones'\n",
    "\n",
    "ones_results = get_predictions(ckpts, approach)\n",
    "ones_results.to_parquet(f'results/{approach}.pqt')"
   ]
  },
  {
   "cell_type": "code",
   "execution_count": 92,
   "metadata": {},
   "outputs": [
    {
     "name": "stderr",
     "output_type": "stream",
     "text": [
      "2023-08-21 15:19:32,726 - train_vit - INFO - Local database found.\n"
     ]
    }
   ],
   "source": [
    "ckpts = ['872', '1745', '2618', '3490', '4363', '5236', '6108', '6981', '7854', '8720']\n",
    "approach = 'U-Zeros'\n",
    "\n",
    "zeros_results = get_predictions(ckpts, approach)\n",
    "zeros_results.to_parquet(f'results/{approach}.pqt')"
   ]
  },
  {
   "attachments": {},
   "cell_type": "markdown",
   "metadata": {},
   "source": [
    "# Experimental Results"
   ]
  },
  {
   "cell_type": "code",
   "execution_count": 2,
   "metadata": {},
   "outputs": [],
   "source": [
    "import pandas as pd\n",
    "\n",
    "ignore_results = pd.read_parquet('results/U-Ignore.pqt')\n",
    "multiclass_results = pd.read_parquet('results/U-MultiClass.pqt')\n",
    "ones_results = pd.read_parquet('results/U-Zeros.pqt')\n",
    "zeros_results = pd.read_parquet('results/U-Ones.pqt')"
   ]
  },
  {
   "cell_type": "code",
   "execution_count": 51,
   "metadata": {},
   "outputs": [],
   "source": [
    "from sklearn.metrics import roc_auc_score, RocCurveDisplay\n",
    "import math\n",
    "\n",
    "def sigmoid(x):\n",
    "    return 1 / (1 + math.exp(-x))\n",
    "\n",
    "pathologies = ['Atelectasis',\n",
    "                'Cardiomegaly',\n",
    "                'Consolidation',\n",
    "                'Edema',\n",
    "                'Pleural Effusion']\n",
    "\n",
    "models_names = [f\"model_{i_model}\" for i_model in range(10)]\n",
    "multiindex = pd.MultiIndex.from_product([models_names, pathologies], names=['model', 'pathology'])\n",
    "\n",
    "def get_roc_score(model_results):\n",
    "    pred_total = pd.DataFrame(index=pd.Index(range(len(model_results))), columns=multiindex)\n",
    "    roc_score_results = pd.DataFrame([], columns=models_names, index=pathologies)\n",
    "    roc_score_results['mean'] = 0\n",
    "    roc_curve = pd.DataFrame([], columns=models_names, index=pathologies)\n",
    "\n",
    "    for pathology in pathologies:\n",
    "        true = model_results.loc[:, ('labels', pathology)]\n",
    "\n",
    "        for model in models_names:\n",
    "            pred = model_results.loc[:, (model, pathology)].apply(sigmoid)\n",
    "            pred_total.loc[:, (model, pathology)] = pred    \n",
    "            \n",
    "            roc_score_results.loc[pathology, model] = roc_auc_score(true, pred)\n",
    "            #roc_curve.loc[pathology, model] = RocCurveDisplay.from_predictions(true, pred)\n",
    "\n",
    "        mean_pred = model_results.loc[:, (model_results.columns.get_level_values(0) != 'labels', 'Atelectasis')].mean(axis=1)\n",
    "        roc_score_results.loc[pathology, 'mean'] = roc_auc_score(true, mean_pred)\n",
    "    #mean_proba = model_results.loc[:, model_results.columns.get_level_values(0) != 'labels'].mean(axis=1)\n",
    "    #true\n",
    "    #roc_score_results['mean'] = roc_auc_score(true, pred)\n",
    "\n",
    "    return roc_score_results#, roc_curve"
   ]
  },
  {
   "cell_type": "code",
   "execution_count": 52,
   "metadata": {},
   "outputs": [
    {
     "data": {
      "text/html": [
       "<div>\n",
       "<style scoped>\n",
       "    .dataframe tbody tr th:only-of-type {\n",
       "        vertical-align: middle;\n",
       "    }\n",
       "\n",
       "    .dataframe tbody tr th {\n",
       "        vertical-align: top;\n",
       "    }\n",
       "\n",
       "    .dataframe thead th {\n",
       "        text-align: right;\n",
       "    }\n",
       "</style>\n",
       "<table border=\"1\" class=\"dataframe\">\n",
       "  <thead>\n",
       "    <tr style=\"text-align: right;\">\n",
       "      <th></th>\n",
       "      <th>model_0</th>\n",
       "      <th>model_1</th>\n",
       "      <th>model_2</th>\n",
       "      <th>model_3</th>\n",
       "      <th>model_4</th>\n",
       "      <th>model_5</th>\n",
       "      <th>model_6</th>\n",
       "      <th>model_7</th>\n",
       "      <th>model_8</th>\n",
       "      <th>model_9</th>\n",
       "      <th>mean</th>\n",
       "    </tr>\n",
       "  </thead>\n",
       "  <tbody>\n",
       "    <tr>\n",
       "      <th>Atelectasis</th>\n",
       "      <td>0.556169</td>\n",
       "      <td>0.440422</td>\n",
       "      <td>0.394399</td>\n",
       "      <td>0.657386</td>\n",
       "      <td>0.535877</td>\n",
       "      <td>0.621753</td>\n",
       "      <td>0.343588</td>\n",
       "      <td>0.456412</td>\n",
       "      <td>0.47638</td>\n",
       "      <td>0.400487</td>\n",
       "      <td>0.524351</td>\n",
       "    </tr>\n",
       "    <tr>\n",
       "      <th>Cardiomegaly</th>\n",
       "      <td>0.579288</td>\n",
       "      <td>0.463235</td>\n",
       "      <td>0.481928</td>\n",
       "      <td>0.454731</td>\n",
       "      <td>0.419826</td>\n",
       "      <td>0.400248</td>\n",
       "      <td>0.538891</td>\n",
       "      <td>0.575213</td>\n",
       "      <td>0.630758</td>\n",
       "      <td>0.409284</td>\n",
       "      <td>0.501949</td>\n",
       "    </tr>\n",
       "    <tr>\n",
       "      <th>Consolidation</th>\n",
       "      <td>0.581185</td>\n",
       "      <td>0.541987</td>\n",
       "      <td>0.469019</td>\n",
       "      <td>0.567616</td>\n",
       "      <td>0.375999</td>\n",
       "      <td>0.652797</td>\n",
       "      <td>0.410071</td>\n",
       "      <td>0.517564</td>\n",
       "      <td>0.413086</td>\n",
       "      <td>0.370722</td>\n",
       "      <td>0.535354</td>\n",
       "    </tr>\n",
       "    <tr>\n",
       "      <th>Edema</th>\n",
       "      <td>0.351911</td>\n",
       "      <td>0.51311</td>\n",
       "      <td>0.427866</td>\n",
       "      <td>0.642563</td>\n",
       "      <td>0.383774</td>\n",
       "      <td>0.630453</td>\n",
       "      <td>0.412111</td>\n",
       "      <td>0.450088</td>\n",
       "      <td>0.351911</td>\n",
       "      <td>0.567784</td>\n",
       "      <td>0.571664</td>\n",
       "    </tr>\n",
       "    <tr>\n",
       "      <th>Pleural Effusion</th>\n",
       "      <td>0.436411</td>\n",
       "      <td>0.598177</td>\n",
       "      <td>0.417732</td>\n",
       "      <td>0.335419</td>\n",
       "      <td>0.604165</td>\n",
       "      <td>0.516221</td>\n",
       "      <td>0.621861</td>\n",
       "      <td>0.456341</td>\n",
       "      <td>0.573688</td>\n",
       "      <td>0.523103</td>\n",
       "      <td>0.523818</td>\n",
       "    </tr>\n",
       "  </tbody>\n",
       "</table>\n",
       "</div>"
      ],
      "text/plain": [
       "                   model_0   model_1   model_2   model_3   model_4   model_5   \n",
       "Atelectasis       0.556169  0.440422  0.394399  0.657386  0.535877  0.621753  \\\n",
       "Cardiomegaly      0.579288  0.463235  0.481928  0.454731  0.419826  0.400248   \n",
       "Consolidation     0.581185  0.541987  0.469019  0.567616  0.375999  0.652797   \n",
       "Edema             0.351911   0.51311  0.427866  0.642563  0.383774  0.630453   \n",
       "Pleural Effusion  0.436411  0.598177  0.417732  0.335419  0.604165  0.516221   \n",
       "\n",
       "                   model_6   model_7   model_8   model_9      mean  \n",
       "Atelectasis       0.343588  0.456412   0.47638  0.400487  0.524351  \n",
       "Cardiomegaly      0.538891  0.575213  0.630758  0.409284  0.501949  \n",
       "Consolidation     0.410071  0.517564  0.413086  0.370722  0.535354  \n",
       "Edema             0.412111  0.450088  0.351911  0.567784  0.571664  \n",
       "Pleural Effusion  0.621861  0.456341  0.573688  0.523103  0.523818  "
      ]
     },
     "execution_count": 52,
     "metadata": {},
     "output_type": "execute_result"
    }
   ],
   "source": [
    "ones_auc_score = get_roc_score(ones_results) #, ones_auc_curve\n",
    "ones_auc_score"
   ]
  },
  {
   "cell_type": "code",
   "execution_count": 31,
   "metadata": {},
   "outputs": [
    {
     "data": {
      "text/plain": [
       "0     -0.140286\n",
       "1     -0.246217\n",
       "2     -0.233676\n",
       "3     -0.226710\n",
       "4     -0.169320\n",
       "         ...   \n",
       "229   -0.148064\n",
       "230   -0.126825\n",
       "231   -0.184965\n",
       "232   -0.194859\n",
       "233   -0.181755\n",
       "Length: 234, dtype: float32"
      ]
     },
     "execution_count": 31,
     "metadata": {},
     "output_type": "execute_result"
    }
   ],
   "source": []
  },
  {
   "cell_type": "code",
   "execution_count": 134,
   "metadata": {},
   "outputs": [
    {
     "data": {
      "text/plain": [
       "0      0.0\n",
       "1      0.0\n",
       "2      0.0\n",
       "3      0.0\n",
       "4      0.0\n",
       "      ... \n",
       "229    0.0\n",
       "230    0.0\n",
       "231    0.0\n",
       "232    0.0\n",
       "233    1.0\n",
       "Name: (labels, Atelectasis), Length: 234, dtype: float32"
      ]
     },
     "execution_count": 134,
     "metadata": {},
     "output_type": "execute_result"
    }
   ],
   "source": [
    "ones_results.loc[:, ('labels', 'Atelectasis')]"
   ]
  },
  {
   "cell_type": "code",
   "execution_count": 91,
   "metadata": {},
   "outputs": [],
   "source": [
    "ignore_auc_score = get_roc_score(pathologies, ignore_results, labels)\n",
    "multi_auc_score = get_roc_score(pathologies, multiclass_results, labels)\n",
    "ones_auc_score = get_roc_score(pathologies, ones_results, labels)\n",
    "zeros_auc_score = get_roc_score(pathologies, zeros_results, labels)"
   ]
  },
  {
   "attachments": {},
   "cell_type": "markdown",
   "metadata": {},
   "source": [
    "# Relabel uncertainty"
   ]
  },
  {
   "cell_type": "code",
   "execution_count": null,
   "metadata": {},
   "outputs": [],
   "source": [
    "ckpts = ['622', '1244', '1867', '2489', '3111', '3734', '4356', '4979', '5601', '6220']\n",
    "approach = 'U-Ignore'\n",
    "train = False\n",
    "\n",
    "ignore_results = get_predictions(ckpts, approach, train)\n",
    "ignore_results.to_parquet(f'{approach}.pqt')"
   ]
  }
 ],
 "metadata": {
  "kernelspec": {
   "display_name": ".env",
   "language": "python",
   "name": "python3"
  },
  "language_info": {
   "codemirror_mode": {
    "name": "ipython",
    "version": 3
   },
   "file_extension": ".py",
   "mimetype": "text/x-python",
   "name": "python",
   "nbconvert_exporter": "python",
   "pygments_lexer": "ipython3",
   "version": "3.11.3"
  },
  "orig_nbformat": 4
 },
 "nbformat": 4,
 "nbformat_minor": 2
}
