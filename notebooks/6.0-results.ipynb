{
 "cells": [
  {
   "cell_type": "code",
   "execution_count": 1,
   "metadata": {},
   "outputs": [
    {
     "name": "stderr",
     "output_type": "stream",
     "text": [
      "c:\\Users\\hurbl\\OneDrive\\Área de Trabalho\\Loon Factory\\repository\\Chest-X-Ray-Pathology-Classifier\\.env\\Lib\\site-packages\\tqdm\\auto.py:21: TqdmWarning: IProgress not found. Please update jupyter and ipywidgets. See https://ipywidgets.readthedocs.io/en/stable/user_install.html\n",
      "  from .autonotebook import tqdm as notebook_tqdm\n"
     ]
    }
   ],
   "source": [
    "import torch\n",
    "\n",
    "from train_vit import CheXpertDataset\n",
    "from transformers import (\n",
    "    ViTForImageClassification,\n",
    "    AutoConfig\n",
    ")\n",
    "\n",
    "import pandas as pd\n",
    "import numpy as np\n",
    "\n",
    "pathologies = ['Atelectasis',\n",
    "                'Cardiomegaly',\n",
    "                'Consolidation',\n",
    "                'Edema',\n",
    "                'Pleural Effusion']\n",
    "\n",
    "def get_predictions(ckpts, approach, train):\n",
    "    val_dataset = CheXpertDataset(\n",
    "            data_path='../data/raw/',\n",
    "            uncertainty_policy=approach,\n",
    "            train=train,\n",
    "            resize_shape=(224, 224))\n",
    "\n",
    "    models = []\n",
    "\n",
    "    for checkpoint in ckpts:\n",
    "        config = AutoConfig.from_pretrained(f\"../models/{approach}/checkpoint-{checkpoint}\")\n",
    "        model = ViTForImageClassification(config=config)\n",
    "        models.append(model)\n",
    "\n",
    "    ds_len = val_dataset.__len__()\n",
    "    multiindex = pd.MultiIndex.from_product([pathologies, list(range(ds_len))])\n",
    "    res = pd.DataFrame([], index=multiindex)\n",
    "\n",
    "    for model_number, model in enumerate(models):\n",
    "        res[f'model_{model_number}'] = np.NaN\n",
    "        for sample in range(ds_len):\n",
    "            with torch.no_grad():\n",
    "                res.loc[\n",
    "                    (slice(None), sample),\n",
    "                    f'model_{model_number}'] = model(val_dataset.__getitem__(sample)['pixel_values'][None, :]).logits.numpy()[0]\n",
    "            \n",
    "    return res"
   ]
  },
  {
   "cell_type": "code",
   "execution_count": 2,
   "metadata": {},
   "outputs": [
    {
     "name": "stderr",
     "output_type": "stream",
     "text": [
      "2023-07-04 18:48:59,502 - train_vit - INFO - Local database found.\n"
     ]
    }
   ],
   "source": [
    "ckpts = ['622', '1244', '1867', '2489', '3111', '3734', '4356', '4979', '5601', '6220']\n",
    "approach = 'U-Ignore'\n",
    "train = False\n",
    "\n",
    "ignore_results = get_predictions(ckpts, approach, train)\n",
    "ignore_results.to_parquet(f'{approach}.pqt')"
   ]
  },
  {
   "cell_type": "code",
   "execution_count": 5,
   "metadata": {},
   "outputs": [
    {
     "name": "stderr",
     "output_type": "stream",
     "text": [
      "2023-07-04 18:58:32,304 - train_vit - INFO - Local database found.\n"
     ]
    }
   ],
   "source": [
    "ckpts = ['872', '1745', '2618', '3490', '4363', '5236', '6108', '6981', '7854', '8720']\n",
    "approach = 'U-MultiClass'\n",
    "train = False\n",
    "\n",
    "multiclass_results = get_predictions(ckpts, approach, train)\n",
    "multiclass_results.to_parquet(f'{approach}.pqt')"
   ]
  },
  {
   "cell_type": "code",
   "execution_count": 6,
   "metadata": {},
   "outputs": [
    {
     "name": "stderr",
     "output_type": "stream",
     "text": [
      "2023-07-04 19:04:06,922 - train_vit - INFO - Local database found.\n"
     ]
    }
   ],
   "source": [
    "ckpts = ['872', '1745', '2618', '3490', '4363', '5236', '6108', '6981', '7854', '8720']\n",
    "approach = 'U-Ones'\n",
    "train = False\n",
    "\n",
    "ones_results = get_predictions(ckpts, approach, train)\n",
    "ones_results.to_parquet(f'{approach}.pqt')"
   ]
  },
  {
   "cell_type": "code",
   "execution_count": 7,
   "metadata": {},
   "outputs": [
    {
     "name": "stderr",
     "output_type": "stream",
     "text": [
      "2023-07-04 19:09:33,190 - train_vit - INFO - Local database found.\n"
     ]
    }
   ],
   "source": [
    "ckpts = ['872', '1745', '2618', '3490', '4363', '5236', '6108', '6981', '7854', '8720']\n",
    "approach = 'U-Zeros'\n",
    "train = False\n",
    "\n",
    "zeros_results = get_predictions(ckpts, approach, train)\n",
    "zeros_results.to_parquet(f'{approach}.pqt')"
   ]
  },
  {
   "attachments": {},
   "cell_type": "markdown",
   "metadata": {},
   "source": [
    "# Experimental Results"
   ]
  },
  {
   "cell_type": "code",
   "execution_count": null,
   "metadata": {},
   "outputs": [],
   "source": []
  },
  {
   "attachments": {},
   "cell_type": "markdown",
   "metadata": {},
   "source": [
    "# Relabel uncertainty"
   ]
  },
  {
   "cell_type": "code",
   "execution_count": null,
   "metadata": {},
   "outputs": [],
   "source": [
    "ckpts = ['622', '1244', '1867', '2489', '3111', '3734', '4356', '4979', '5601', '6220']\n",
    "approach = 'U-Ignore'\n",
    "train = False\n",
    "\n",
    "ignore_results = get_predictions(ckpts, approach, train)\n",
    "ignore_results.to_parquet(f'{approach}.pqt')"
   ]
  }
 ],
 "metadata": {
  "kernelspec": {
   "display_name": ".env",
   "language": "python",
   "name": "python3"
  },
  "language_info": {
   "codemirror_mode": {
    "name": "ipython",
    "version": 3
   },
   "file_extension": ".py",
   "mimetype": "text/x-python",
   "name": "python",
   "nbconvert_exporter": "python",
   "pygments_lexer": "ipython3",
   "version": "3.11.3"
  },
  "orig_nbformat": 4
 },
 "nbformat": 4,
 "nbformat_minor": 2
}
